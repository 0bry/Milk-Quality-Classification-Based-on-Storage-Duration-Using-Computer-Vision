{
 "cells": [
  {
   "cell_type": "code",
   "execution_count": 5,
   "metadata": {},
   "outputs": [
    {
     "name": "stdout",
     "output_type": "stream",
     "text": [
      "Requirement already satisfied: Augmentor in c:\\users\\asus vivobook\\appdata\\local\\programs\\python\\python39\\lib\\site-packages (0.2.12)\n",
      "Requirement already satisfied: Pillow>=5.2.0 in c:\\users\\asus vivobook\\appdata\\local\\programs\\python\\python39\\lib\\site-packages (from Augmentor) (10.0.0)\n",
      "Requirement already satisfied: tqdm>=4.9.0 in c:\\users\\asus vivobook\\appdata\\local\\programs\\python\\python39\\lib\\site-packages (from Augmentor) (4.67.1)\n",
      "Requirement already satisfied: numpy>=1.11.0 in c:\\users\\asus vivobook\\appdata\\local\\programs\\python\\python39\\lib\\site-packages (from Augmentor) (1.24.3)\n",
      "Requirement already satisfied: colorama in c:\\users\\asus vivobook\\appdata\\local\\programs\\python\\python39\\lib\\site-packages (from tqdm>=4.9.0->Augmentor) (0.4.6)\n"
     ]
    }
   ],
   "source": [
    "!pip install Augmentor\n",
    "\n",
    "import Augmentor"
   ]
  },
  {
   "cell_type": "code",
   "execution_count": 14,
   "metadata": {},
   "outputs": [
    {
     "name": "stdout",
     "output_type": "stream",
     "text": [
      "Initialised with 54 image(s) found.\n",
      "Output directory set to C:\\Users\\ASUS VivoBook\\OneDrive\\Desktop\\milk\\milk_class\\output."
     ]
    }
   ],
   "source": [
    "p = Augmentor.Pipeline(\"C:\\\\Users\\\\ASUS VivoBook\\\\OneDrive\\\\Desktop\\\\milk\\\\milk_class\")"
   ]
  },
  {
   "cell_type": "code",
   "execution_count": 15,
   "metadata": {},
   "outputs": [
    {
     "name": "stderr",
     "output_type": "stream",
     "text": [
      "Processing <PIL.Image.Image image mode=RGB size=4032x3024 at 0x2AD8F495160>: 100%|██████████| 2000/2000 [09:57<00:00,  3.35 Samples/s]                  \n"
     ]
    }
   ],
   "source": [
    "\n",
    "p.flip_left_right(probability=0.5)\n",
    "\n",
    "# 2. Rotate by 90 degrees (50% probability)\n",
    "p.rotate90(probability=0.5)\n",
    "\n",
    "# 3. Arbitrary rotation (-25° to 25°, 50% probability)\n",
    "p.rotate(probability=0.5, max_left_rotation=10, max_right_rotation=10)\n",
    "\n",
    "# 4. Shear (up to 25°, 50% probability)\n",
    "p.shear(probability=0.5, max_shear_left=10, max_shear_right=10)\n",
    "\n",
    "# Generate fewer samples (e.g., 2000 instead of 10,000)\n",
    "p.sample(2000)  # Adjust this number as needed!"
   ]
  }
 ],
 "metadata": {
  "kernelspec": {
   "display_name": "Python 3",
   "language": "python",
   "name": "python3"
  },
  "language_info": {
   "codemirror_mode": {
    "name": "ipython",
    "version": 3
   },
   "file_extension": ".py",
   "mimetype": "text/x-python",
   "name": "python",
   "nbconvert_exporter": "python",
   "pygments_lexer": "ipython3",
   "version": "3.9.0"
  }
 },
 "nbformat": 4,
 "nbformat_minor": 2
}
